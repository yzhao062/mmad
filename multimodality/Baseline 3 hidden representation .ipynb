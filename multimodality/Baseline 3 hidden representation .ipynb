{
 "cells": [
  {
   "cell_type": "code",
   "execution_count": 49,
   "metadata": {},
   "outputs": [],
   "source": [
    "import torch\n",
    "import torch.utils.data as Data\n",
    "import torch.nn as nn\n",
    "import torch.nn.functional as F\n",
    "from torch.autograd import Variable\n",
    "import matplotlib.pyplot as plt\n",
    "import numpy as np\n",
    "\n",
    "text = np.load('/Users/ww/Desktop/stuff/multimodal ml codes/data/word2vec.npy')\n",
    "image = np.load('/Users/ww/Desktop/stuff/multimodal ml codes/data/train_image_embedding.npy')"
   ]
  },
  {
   "cell_type": "code",
   "execution_count": 50,
   "metadata": {},
   "outputs": [
    {
     "data": {
      "text/plain": [
       "((6126, 300), (6126, 512))"
      ]
     },
     "execution_count": 50,
     "metadata": {},
     "output_type": "execute_result"
    }
   ],
   "source": [
    "text.shape, image.shape"
   ]
  },
  {
   "cell_type": "code",
   "execution_count": 52,
   "metadata": {},
   "outputs": [],
   "source": [
    "#####image to text\n",
    "input_dimension = 512\n",
    "output_dimension = 300\n",
    "batch_size = 32\n",
    "EPOCH = 100\n",
    "\n",
    "class Net(nn.Module):\n",
    "    def __init__(self):\n",
    "        super(Net, self).__init__()\n",
    "        self.hidden1 = nn.Linear(input_dimension,400)\n",
    "        self.hidden1.weight.data.normal_(0,0.5)\n",
    "        self.dropout1 = nn.Dropout(0.5)\n",
    "        self.relu1 = nn.LeakyReLU(0.2, inplace=True)\n",
    "        self.predict = nn.Linear(400, output_dimension)\n",
    "        self.predict.weight.data.normal_(0,0.5)\n",
    "        \n",
    "    def forward(self,x):\n",
    "        x = self.hidden1(x)\n",
    "        x = self.dropout1(x)\n",
    "        x = self.relu1(x)\n",
    "        x = self.predict(x)\n",
    "        return x"
   ]
  },
  {
   "cell_type": "code",
   "execution_count": 53,
   "metadata": {},
   "outputs": [],
   "source": [
    "#####image to text\n",
    "net = Net()\n",
    "loss_func = torch.nn.MSELoss()\n",
    "optimizer = torch.optim.Adam(net.parameters(), lr = 0.5)\n",
    "train_x = torch.from_numpy(image).type(torch.FloatTensor)\n",
    "train_y = torch.from_numpy(text).type(torch.FloatTensor)\n",
    "\n",
    "train_torch_dataset = Data.TensorDataset(train_x,  train_y)\n",
    "train_loader = Data.DataLoader(\n",
    "    dataset = train_torch_dataset,\n",
    "    batch_size = batch_size,\n",
    "    shuffle = True,\n",
    "    num_workers = 2)"
   ]
  },
  {
   "cell_type": "code",
   "execution_count": 59,
   "metadata": {},
   "outputs": [
    {
     "name": "stdout",
     "output_type": "stream",
     "text": [
      "0 train_loss: 19548.78515625\n",
      "0 train_loss: 82084.328125\n",
      "1 train_loss: 15486.08984375\n",
      "1 train_loss: 10383.328125\n",
      "2 train_loss: 5227.1513671875\n",
      "2 train_loss: 5198.56005859375\n",
      "3 train_loss: 3233.083251953125\n",
      "3 train_loss: 1819.2314453125\n",
      "4 train_loss: 1571.1700439453125\n",
      "4 train_loss: 985.074462890625\n",
      "5 train_loss: 799.7312622070312\n",
      "5 train_loss: 1252.2750244140625\n",
      "6 train_loss: 1188.135986328125\n",
      "6 train_loss: 707.63623046875\n",
      "7 train_loss: 638.4408569335938\n",
      "7 train_loss: 451.0274963378906\n",
      "8 train_loss: 378.375244140625\n",
      "8 train_loss: 473.78790283203125\n",
      "9 train_loss: 295.0971374511719\n",
      "9 train_loss: 250.08287048339844\n",
      "10 train_loss: 182.8092803955078\n",
      "10 train_loss: 154.33084106445312\n",
      "11 train_loss: 183.45887756347656\n",
      "11 train_loss: 188.42657470703125\n",
      "12 train_loss: 135.3167266845703\n",
      "12 train_loss: 105.79149627685547\n",
      "13 train_loss: 85.40145111083984\n",
      "13 train_loss: 279.283203125\n",
      "14 train_loss: 97.45988464355469\n",
      "14 train_loss: 94.18049621582031\n",
      "15 train_loss: 79.66089630126953\n",
      "15 train_loss: 75.93669128417969\n",
      "16 train_loss: 61.111881256103516\n",
      "16 train_loss: 83.56705474853516\n",
      "17 train_loss: 59.0048713684082\n",
      "17 train_loss: 49.608673095703125\n",
      "18 train_loss: 46.34256362915039\n",
      "18 train_loss: 53.49197769165039\n",
      "19 train_loss: 39.06534957885742\n",
      "19 train_loss: 55.2301025390625\n",
      "20 train_loss: 39.7336540222168\n",
      "20 train_loss: 41.36091995239258\n",
      "21 train_loss: 28.371753692626953\n",
      "21 train_loss: 30.357614517211914\n",
      "22 train_loss: 41.68772888183594\n",
      "22 train_loss: 38.08326721191406\n",
      "23 train_loss: 30.759172439575195\n",
      "23 train_loss: 33.677947998046875\n",
      "24 train_loss: 31.7214298248291\n",
      "24 train_loss: 30.844430923461914\n",
      "25 train_loss: 34.79425811767578\n",
      "25 train_loss: 37.03132247924805\n",
      "26 train_loss: 40.833065032958984\n",
      "26 train_loss: 18.51503562927246\n",
      "27 train_loss: 19.383514404296875\n",
      "27 train_loss: 48.40842819213867\n",
      "28 train_loss: 55.284061431884766\n",
      "28 train_loss: 109.90026092529297\n",
      "29 train_loss: 32.834739685058594\n",
      "29 train_loss: 30.956594467163086\n",
      "30 train_loss: 26.996923446655273\n",
      "30 train_loss: 9.32863712310791\n",
      "31 train_loss: 7.623886585235596\n",
      "31 train_loss: 7.886044979095459\n",
      "32 train_loss: 10.394390106201172\n",
      "32 train_loss: 5.872377872467041\n",
      "33 train_loss: 9.048507690429688\n",
      "33 train_loss: 7.907077789306641\n",
      "34 train_loss: 8.299518585205078\n",
      "34 train_loss: 9.991765975952148\n",
      "35 train_loss: 7.425327301025391\n",
      "35 train_loss: 10.560379028320312\n",
      "36 train_loss: 12.244733810424805\n",
      "36 train_loss: 6.783870220184326\n",
      "37 train_loss: 5.5368804931640625\n",
      "37 train_loss: 5.225745677947998\n",
      "38 train_loss: 4.69631290435791\n",
      "38 train_loss: 7.1689324378967285\n",
      "39 train_loss: 7.165629863739014\n",
      "39 train_loss: 3.9677600860595703\n"
     ]
    }
   ],
   "source": [
    "#####image to text\n",
    "loss_box = []\n",
    "for epoch in range(40):\n",
    "    for step, (b_x, b_y) in enumerate(train_loader):        # gives batch data\n",
    "        b_x = Variable(b_x)\n",
    "        b_y = Variable(b_y)\n",
    "\n",
    "        output = net(b_x)                              \n",
    "        loss = loss_func(output, b_y)                   \n",
    "        optimizer.zero_grad()                           \n",
    "        loss.backward()                                \n",
    "        optimizer.step() \n",
    "        loss_box.append(loss.item())\n",
    "        if step%100 ==0:\n",
    "            print (epoch,\"train_loss:\",loss.item())"
   ]
  },
  {
   "cell_type": "code",
   "execution_count": 60,
   "metadata": {},
   "outputs": [
    {
     "data": {
      "image/png": "[encoded data removed]",
      "text/plain": [
       "<Figure size 432x288 with 1 Axes>"
      ]
     },
     "metadata": {
      "needs_background": "light"
     },
     "output_type": "display_data"
    }
   ],
   "source": [
    "plt.plot(loss_box)\n",
    "plt.show()"
   ]
  },
  {
   "cell_type": "code",
   "execution_count": 69,
   "metadata": {},
   "outputs": [],
   "source": [
    "x = net.hidden1(Variable(train_x))\n",
    "x = net.dropout1(x)\n",
    "x = net.relu1(x)\n",
    "image_to_text_hidden_layer = x.data.numpy()"
   ]
  },
  {
   "cell_type": "code",
   "execution_count": 70,
   "metadata": {},
   "outputs": [
    {
     "data": {
      "text/plain": [
       "(6126, 400)"
      ]
     },
     "execution_count": 70,
     "metadata": {},
     "output_type": "execute_result"
    }
   ],
   "source": [
    "image_to_text_hidden_layer.shape"
   ]
  },
  {
   "cell_type": "code",
   "execution_count": 79,
   "metadata": {},
   "outputs": [],
   "source": [
    "#######text to image\n",
    "input_dimension = 300\n",
    "output_dimension = 512\n",
    "batch_size = 32\n",
    "EPOCH = 100\n",
    "\n",
    "class Net(nn.Module):\n",
    "    def __init__(self):\n",
    "        super(Net, self).__init__()\n",
    "        self.hidden1 = nn.Linear(input_dimension,400)\n",
    "        self.hidden1.weight.data.normal_(0,0.5)\n",
    "        self.dropout1 = nn.Dropout(0.5)\n",
    "        self.relu1 = nn.LeakyReLU(0.2, inplace=True)\n",
    "        self.predict = nn.Linear(400, output_dimension)\n",
    "        self.predict.weight.data.normal_(0,0.5)\n",
    "        \n",
    "    def forward(self,x):\n",
    "        x = self.hidden1(x)\n",
    "        x = self.dropout1(x)\n",
    "        x = self.relu1(x)\n",
    "        x = self.predict(x)\n",
    "        return x"
   ]
  },
  {
   "cell_type": "code",
   "execution_count": 84,
   "metadata": {},
   "outputs": [],
   "source": [
    "#######text to image\n",
    "net = Net()\n",
    "loss_func = torch.nn.MSELoss()\n",
    "optimizer = torch.optim.Adam(net.parameters(), lr = 0.5)\n",
    "train_x = torch.from_numpy(text).type(torch.FloatTensor)\n",
    "train_y = torch.from_numpy(image).type(torch.FloatTensor)\n",
    "\n",
    "train_torch_dataset = Data.TensorDataset(train_x,  train_y)\n",
    "train_loader = Data.DataLoader(\n",
    "    dataset = train_torch_dataset,\n",
    "    batch_size = batch_size,\n",
    "    shuffle = True,\n",
    "    num_workers = 0)"
   ]
  },
  {
   "cell_type": "code",
   "execution_count": 85,
   "metadata": {},
   "outputs": [
    {
     "name": "stdout",
     "output_type": "stream",
     "text": [
      "0 train_loss: 89.16423034667969\n",
      "0 train_loss: 355.30853271484375\n",
      "1 train_loss: 83.67070007324219\n",
      "1 train_loss: 32.437705993652344\n",
      "2 train_loss: 26.259485244750977\n",
      "2 train_loss: 10.944101333618164\n",
      "3 train_loss: 8.274604797363281\n",
      "3 train_loss: 6.422444820404053\n",
      "4 train_loss: 4.911138534545898\n",
      "4 train_loss: 4.772035598754883\n",
      "5 train_loss: 3.811861753463745\n",
      "5 train_loss: 2.7520711421966553\n",
      "6 train_loss: 2.378511667251587\n",
      "6 train_loss: 1.9722037315368652\n",
      "7 train_loss: 1.8078927993774414\n",
      "7 train_loss: 1.62186861038208\n",
      "8 train_loss: 1.5542911291122437\n",
      "8 train_loss: 1.3378568887710571\n",
      "9 train_loss: 1.3352489471435547\n",
      "9 train_loss: 1.1214896440505981\n",
      "10 train_loss: 0.9816820621490479\n",
      "10 train_loss: 1.2506773471832275\n",
      "11 train_loss: 1.1156984567642212\n",
      "11 train_loss: 0.918005108833313\n",
      "12 train_loss: 1.0326415300369263\n",
      "12 train_loss: 0.8992661237716675\n",
      "13 train_loss: 0.8413772583007812\n",
      "13 train_loss: 0.9273940920829773\n",
      "14 train_loss: 0.9014202952384949\n",
      "14 train_loss: 0.9819227457046509\n",
      "15 train_loss: 0.7780181169509888\n",
      "15 train_loss: 0.8790241479873657\n",
      "16 train_loss: 0.7684613466262817\n",
      "16 train_loss: 0.8070617914199829\n",
      "17 train_loss: 0.8028130531311035\n",
      "17 train_loss: 0.7711871266365051\n",
      "18 train_loss: 0.6815531849861145\n",
      "18 train_loss: 0.7313279509544373\n",
      "19 train_loss: 0.7389538288116455\n",
      "19 train_loss: 0.7600308656692505\n",
      "20 train_loss: 0.78168123960495\n",
      "20 train_loss: 0.7413173317909241\n",
      "21 train_loss: 0.6540001630783081\n",
      "21 train_loss: 0.7702154517173767\n",
      "22 train_loss: 0.7549357414245605\n",
      "22 train_loss: 0.6830634474754333\n",
      "23 train_loss: 0.6925869584083557\n",
      "23 train_loss: 0.7024860978126526\n",
      "24 train_loss: 0.7389563322067261\n",
      "24 train_loss: 0.7423208951950073\n",
      "25 train_loss: 0.7186286449432373\n",
      "25 train_loss: 0.7629970908164978\n",
      "26 train_loss: 0.7008323073387146\n",
      "26 train_loss: 0.6930224299430847\n",
      "27 train_loss: 0.7681246995925903\n",
      "27 train_loss: 0.6936702728271484\n",
      "28 train_loss: 0.7069140076637268\n",
      "28 train_loss: 0.6955345869064331\n",
      "29 train_loss: 0.6507152915000916\n",
      "29 train_loss: 0.6997780203819275\n",
      "30 train_loss: 0.7129393219947815\n",
      "30 train_loss: 0.7034531831741333\n",
      "31 train_loss: 0.6695297360420227\n",
      "31 train_loss: 0.6765131950378418\n",
      "32 train_loss: 0.6690846681594849\n",
      "32 train_loss: 0.7197782397270203\n",
      "33 train_loss: 0.7329836487770081\n",
      "33 train_loss: 0.7138142585754395\n",
      "34 train_loss: 0.6767127513885498\n",
      "34 train_loss: 0.6973391175270081\n",
      "35 train_loss: 0.6969541311264038\n",
      "35 train_loss: 0.7481805086135864\n",
      "36 train_loss: 0.6515448689460754\n",
      "36 train_loss: 0.6974749565124512\n",
      "37 train_loss: 0.6298567056655884\n",
      "37 train_loss: 0.6548495292663574\n",
      "38 train_loss: 0.6644099950790405\n",
      "38 train_loss: 0.728901743888855\n",
      "39 train_loss: 0.6171890497207642\n",
      "39 train_loss: 0.6722154021263123\n"
     ]
    }
   ],
   "source": [
    "#######text to image\n",
    "loss_box = []\n",
    "for epoch in range(40):\n",
    "    for step, (b_x, b_y) in enumerate(train_loader):        # gives batch data\n",
    "        b_x = Variable(b_x)\n",
    "        b_y = Variable(b_y)\n",
    "\n",
    "        output = net(b_x)                              \n",
    "        loss = loss_func(output, b_y)                   \n",
    "        optimizer.zero_grad()                           \n",
    "        loss.backward()                                \n",
    "        optimizer.step() \n",
    "        loss_box.append(loss.item())\n",
    "        if step%100 ==0:\n",
    "            print (epoch,\"train_loss:\",loss.item())"
   ]
  },
  {
   "cell_type": "code",
   "execution_count": 87,
   "metadata": {},
   "outputs": [
    {
     "data": {
      "image/png": "[encoded data removed]",
      "text/plain": [
       "<Figure size 432x288 with 1 Axes>"
      ]
     },
     "metadata": {
      "needs_background": "light"
     },
     "output_type": "display_data"
    }
   ],
   "source": [
    "plt.plot(loss_box)\n",
    "plt.show()"
   ]
  },
  {
   "cell_type": "code",
   "execution_count": 88,
   "metadata": {},
   "outputs": [],
   "source": [
    "x = net.hidden1(Variable(train_x))\n",
    "x = net.dropout1(x)\n",
    "x = net.relu1(x)\n",
    "text_to_image_hidden_layer = x.data.numpy()"
   ]
  },
  {
   "cell_type": "code",
   "execution_count": 89,
   "metadata": {},
   "outputs": [
    {
     "data": {
      "text/plain": [
       "(6126, 400)"
      ]
     },
     "execution_count": 89,
     "metadata": {},
     "output_type": "execute_result"
    }
   ],
   "source": [
    "text_to_image_hidden_layer.shape"
   ]
  },
  {
   "cell_type": "code",
   "execution_count": 90,
   "metadata": {},
   "outputs": [
    {
     "data": {
      "text/plain": [
       "array([[-0.19959521, -0.        , -0.5484187 , ..., -0.4163961 ,\n",
       "        -0.        , -0.        ],\n",
       "       [-0.19959521, -0.        , -0.5484187 , ..., -0.        ,\n",
       "        -0.3208784 , -0.06179994],\n",
       "       [-0.19959521, -0.        , -0.5484187 , ..., -0.4163961 ,\n",
       "        -0.        , -0.        ],\n",
       "       ...,\n",
       "       [-0.        , -0.18604164,  0.01658535, ...,  0.36846587,\n",
       "        -0.        , -0.25732103],\n",
       "       [-0.        , -0.        , -0.        , ..., -0.        ,\n",
       "        -0.        , -0.165839  ],\n",
       "       [-0.        , -0.        , -0.        , ..., -0.25386077,\n",
       "        -0.        ,  0.        ]], dtype=float32)"
      ]
     },
     "execution_count": 90,
     "metadata": {},
     "output_type": "execute_result"
    }
   ],
   "source": [
    "text_to_image_hidden_layer"
   ]
  },
  {
   "cell_type": "code",
   "execution_count": 91,
   "metadata": {},
   "outputs": [
    {
     "data": {
      "text/plain": [
       "array([[ -3.0148075 ,  -0.        ,  -0.37667805, ...,   0.        ,\n",
       "         -2.915619  , -13.071704  ],\n",
       "       [ -0.6852356 ,   0.        ,  -2.5744443 , ...,  -0.        ,\n",
       "          1.6780392 , -12.834122  ],\n",
       "       [ -0.        ,  -0.        ,  -0.        , ...,  -3.0820606 ,\n",
       "          2.3322697 , -22.452179  ],\n",
       "       ...,\n",
       "       [ -2.8444908 ,  -0.        ,  -0.        , ...,  -0.        ,\n",
       "         -0.        , -49.02954   ],\n",
       "       [ -6.7210574 ,  -0.        ,  -4.880771  , ..., -12.842925  ,\n",
       "         -0.        ,  -0.        ],\n",
       "       [ -0.        ,  -0.        ,  -3.4757545 , ...,  -0.        ,\n",
       "         -0.        ,  -0.        ]], dtype=float32)"
      ]
     },
     "execution_count": 91,
     "metadata": {},
     "output_type": "execute_result"
    }
   ],
   "source": [
    "image_to_text_hidden_layer"
   ]
  },
  {
   "cell_type": "code",
   "execution_count": 95,
   "metadata": {},
   "outputs": [],
   "source": [
    "embeding = np.concatenate((image_to_text_hidden_layer,text_to_image_hidden_layer), axis = 1)"
   ]
  },
  {
   "cell_type": "code",
   "execution_count": 96,
   "metadata": {},
   "outputs": [
    {
     "data": {
      "text/plain": [
       "(6126, 800)"
      ]
     },
     "execution_count": 96,
     "metadata": {},
     "output_type": "execute_result"
    }
   ],
   "source": [
    "embeding.shape"
   ]
  },
  {
   "cell_type": "code",
   "execution_count": 97,
   "metadata": {},
   "outputs": [],
   "source": [
    "np.save(\"/Users/ww/Desktop/stuff/multimodal ml codes/data/baseline_wen_embeding.npy\",embeding)"
   ]
  },
  {
   "cell_type": "code",
   "execution_count": null,
   "metadata": {},
   "outputs": [],
   "source": []
  }
 ],
 "metadata": {
  "kernelspec": {
   "display_name": "Python 3",
   "language": "python",
   "name": "python3"
  },
  "language_info": {
   "codemirror_mode": {
    "name": "ipython",
    "version": 3
   },
   "file_extension": ".py",
   "mimetype": "text/x-python",
   "name": "python",
   "nbconvert_exporter": "python",
   "pygments_lexer": "ipython3",
   "version": "3.7.6"
  }
 },
 "nbformat": 4,
 "nbformat_minor": 2
}
